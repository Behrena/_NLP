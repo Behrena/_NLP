{
 "cells": [
  {
   "cell_type": "markdown",
   "metadata": {},
   "source": [
    "- Check GPU performance if you want to utilize GPU & you can also use it to check GPU memory usage\n",
    "- !nvidia-smi  "
   ]
  },
  {
   "cell_type": "markdown",
   "metadata": {},
   "source": [
    "# Libararies "
   ]
  },
  {
   "cell_type": "code",
   "execution_count": 2,
   "metadata": {},
   "outputs": [
    {
     "name": "stdout",
     "output_type": "stream",
     "text": [
      "Device being used: mps\n"
     ]
    },
    {
     "name": "stderr",
     "output_type": "stream",
     "text": [
      "[nltk_data] Downloading package punkt to data/punkt...\n",
      "[nltk_data]   Package punkt is already up-to-date!\n"
     ]
    }
   ],
   "source": [
    "from transformers import pipeline, set_seed\n",
    "from transformers import AutoTokenizer, AutoModelForSeq2SeqLM, Seq2SeqTrainer, DataCollatorForSeq2Seq\n",
    "from transformers import DataCollatorForSeq2Seq\n",
    "from transformers import TrainingArguments, Trainer\n",
    "\n",
    "import nltk\n",
    "from nltk.tokenize import sent_tokenize\n",
    "from sacrebleu import corpus_bleu\n",
    "\n",
    "import torch\n",
    "import numpy as np\n",
    "\n",
    "import pandas as pd\n",
    "from datasets import Dataset\n",
    "\n",
    "from tqdm import tqdm\n",
    "\n",
    "import matplotlib.pyplot as plt\n",
    "import json\n",
    "import evaluate\n",
    "\n",
    "\n",
    "# 1. Download and load the necessary libraries and models\n",
    "nltk.download('punkt', download_dir=\"data/punkt\") #In NLTK, PUNKT is an unsupervised trainable model,\n",
    "\n",
    "# 2. set up device to compute the model  \n",
    "device = torch.device(\"cuda\" if torch.cuda.is_available() \n",
    "                      else 'mps' if torch.mps.is_available()\n",
    "                      else \"cpu\")  \n",
    "                  \n",
    "print(\"Device being used:\", device)\n",
    "\n",
    "\n",
    "\n",
    "# Clear GPU memory to free up memory for the new model\n",
    "torch.mps.empty_cache()\n",
    "\n",
    "# torch.mps.set_per_process_memory_fraction(0.0) # to fix memory allocation error when memory allocation is disabled\n",
    "\n",
    "# #PYTORCH_MPS_HIGH_WATERMARK_RATIO=0.0 to allow training on CPU "
   ]
  },
  {
   "cell_type": "markdown",
   "metadata": {},
   "source": [
    "## Load the model and tokenizer"
   ]
  },
  {
   "cell_type": "code",
   "execution_count": 5,
   "metadata": {},
   "outputs": [
    {
     "name": "stderr",
     "output_type": "stream",
     "text": [
      "Some weights of PegasusForConditionalGeneration were not initialized from the model checkpoint at google/pegasus-cnn_dailymail and are newly initialized: ['model.decoder.embed_positions.weight', 'model.encoder.embed_positions.weight']\n",
      "You should probably TRAIN this model on a down-stream task to be able to use it for predictions and inference.\n"
     ]
    }
   ],
   "source": [
    "# 3. load the model and tokenizer\n",
    "\n",
    "model_name = \"google/pegasus-cnn_dailymail\"\n",
    "tokenizer = AutoTokenizer.from_pretrained(model_name) \n",
    "model = AutoModelForSeq2SeqLM.from_pretrained(model_name)\n"
   ]
  },
  {
   "cell_type": "markdown",
   "metadata": {},
   "source": [
    "## load the dataset & prepare the training & test sets"
   ]
  },
  {
   "cell_type": "code",
   "execution_count": 6,
   "metadata": {},
   "outputs": [
    {
     "name": "stdout",
     "output_type": "stream",
     "text": [
      "Split lengths: ((14732, 2), (818, 2), (819, 2))\n",
      "Features: ['dialogue', 'summary']\n"
     ]
    },
    {
     "data": {
      "text/html": [
       "<div>\n",
       "<style scoped>\n",
       "    .dataframe tbody tr th:only-of-type {\n",
       "        vertical-align: middle;\n",
       "    }\n",
       "\n",
       "    .dataframe tbody tr th {\n",
       "        vertical-align: top;\n",
       "    }\n",
       "\n",
       "    .dataframe thead th {\n",
       "        text-align: right;\n",
       "    }\n",
       "</style>\n",
       "<table border=\"1\" class=\"dataframe\">\n",
       "  <thead>\n",
       "    <tr style=\"text-align: right;\">\n",
       "      <th></th>\n",
       "      <th>dialogue</th>\n",
       "      <th>summary</th>\n",
       "    </tr>\n",
       "    <tr>\n",
       "      <th>id</th>\n",
       "      <th></th>\n",
       "      <th></th>\n",
       "    </tr>\n",
       "  </thead>\n",
       "  <tbody>\n",
       "    <tr>\n",
       "      <th>13818513</th>\n",
       "      <td>Amanda: I baked  cookies. Do you want some?\\r\\...</td>\n",
       "      <td>Amanda baked cookies and will bring Jerry some...</td>\n",
       "    </tr>\n",
       "    <tr>\n",
       "      <th>13728867</th>\n",
       "      <td>Olivia: Who are you voting for in this electio...</td>\n",
       "      <td>Olivia and Olivier are voting for liberals in ...</td>\n",
       "    </tr>\n",
       "    <tr>\n",
       "      <th>13681000</th>\n",
       "      <td>Tim: Hi, what's up?\\r\\nKim: Bad mood tbh, I wa...</td>\n",
       "      <td>Kim may try the pomodoro technique recommended...</td>\n",
       "    </tr>\n",
       "    <tr>\n",
       "      <th>13730747</th>\n",
       "      <td>Edward: Rachel, I think I'm in ove with Bella....</td>\n",
       "      <td>Edward thinks he is in love with Bella. Rachel...</td>\n",
       "    </tr>\n",
       "    <tr>\n",
       "      <th>13728094</th>\n",
       "      <td>Sam: hey  overheard rick say something\\r\\nSam:...</td>\n",
       "      <td>Sam is confused, because he overheard Rick com...</td>\n",
       "    </tr>\n",
       "  </tbody>\n",
       "</table>\n",
       "</div>"
      ],
      "text/plain": [
       "                                                   dialogue  \\\n",
       "id                                                            \n",
       "13818513  Amanda: I baked  cookies. Do you want some?\\r\\...   \n",
       "13728867  Olivia: Who are you voting for in this electio...   \n",
       "13681000  Tim: Hi, what's up?\\r\\nKim: Bad mood tbh, I wa...   \n",
       "13730747  Edward: Rachel, I think I'm in ove with Bella....   \n",
       "13728094  Sam: hey  overheard rick say something\\r\\nSam:...   \n",
       "\n",
       "                                                    summary  \n",
       "id                                                           \n",
       "13818513  Amanda baked cookies and will bring Jerry some...  \n",
       "13728867  Olivia and Olivier are voting for liberals in ...  \n",
       "13681000  Kim may try the pomodoro technique recommended...  \n",
       "13730747  Edward thinks he is in love with Bella. Rachel...  \n",
       "13728094  Sam is confused, because he overheard Rick com...  "
      ]
     },
     "execution_count": 6,
     "metadata": {},
     "output_type": "execute_result"
    }
   ],
   "source": [
    "# 4. load the dataset\n",
    "\n",
    "## if you want to load the dataset from disk that not from huggingface hub\n",
    "# dataset_samsum = load_from_disk('samsum_dataset')\n",
    "# split_lengths = [len(dataset_samsum[split])for split in dataset_samsum]\n",
    "\n",
    "train_json= 'data/samsum/train.json'\n",
    "validation_json = 'data/samsum/val.json'\n",
    "test_json = 'data/samsum/test.json'\n",
    "\n",
    "# define the function to preprocess the data\n",
    "def convert_to_df(json_file):\n",
    "    with open(json_file, 'r') as f:\n",
    "        data = json.load(f)\n",
    "    df = pd.DataFrame(data)\n",
    "    df = df.reindex(columns=['id', 'dialogue', 'summary'])\n",
    "    return df\n",
    "\n",
    "train_df = convert_to_df(train_json).set_index('id')\n",
    "validation_df =convert_to_df(validation_json).set_index('id')\n",
    "test_df = convert_to_df(test_json).set_index('id')\n",
    "\n",
    "\n",
    "print(f\"Split lengths: {train_df.shape, validation_df.shape, test_df.shape}\")\n",
    "print(f\"Features: {train_df.columns.tolist()}\")\n",
    "\n",
    "# train data\n",
    "train_df.head()"
   ]
  },
  {
   "cell_type": "markdown",
   "metadata": {},
   "source": [
    "## examples of dialogues and summaries in the dataset"
   ]
  },
  {
   "cell_type": "code",
   "execution_count": 7,
   "metadata": {},
   "outputs": [
    {
     "name": "stdout",
     "output_type": "stream",
     "text": [
      "dialogue: Hannah: Hey, do you have Betty's number?\n",
      "Amanda: Lemme check\n",
      "Hannah: <file_gif>\n",
      "Amanda: Sorry, can't find it.\n",
      "Amanda: Ask Larry\n",
      "Amanda: He called her last time we were at the park together\n",
      "Hannah: I don't know him well\n",
      "Hannah: <file_gif>\n",
      "Amanda: Don't be shy, he's very nice\n",
      "Hannah: If you say so..\n",
      "Hannah: I'd rather you texted him\n",
      "Amanda: Just text him 🙂\n",
      "Hannah: Urgh.. Alright\n",
      "Hannah: Bye\n",
      "Amanda: Bye bye\n",
      "...\n",
      "summary: Hannah needs Betty's number but Amanda doesn't have it. She needs to contact Larry.\n"
     ]
    }
   ],
   "source": [
    "# test data\n",
    "print(f\"dialogue: {test_df['dialogue'].iloc[0]}\")\n",
    "print(\"...\")\n",
    "print(f\"summary: {test_df['summary'].iloc[0]}\")"
   ]
  },
  {
   "cell_type": "markdown",
   "metadata": {},
   "source": [
    "# Tokenize sentences"
   ]
  },
  {
   "cell_type": "code",
   "execution_count": 8,
   "metadata": {},
   "outputs": [
    {
     "name": "stderr",
     "output_type": "stream",
     "text": [
      "Map: 100%|██████████| 14732/14732 [00:02<00:00, 5098.08 examples/s]\n",
      "Map: 100%|██████████| 818/818 [00:00<00:00, 5231.72 examples/s]\n",
      "Map: 100%|██████████| 819/819 [00:00<00:00, 5191.17 examples/s]\n"
     ]
    },
    {
     "data": {
      "text/plain": [
       "Dataset({\n",
       "    features: ['dialogue', 'summary', 'id', 'input_ids', 'attention_mask', 'labels'],\n",
       "    num_rows: 14732\n",
       "})"
      ]
     },
     "execution_count": 8,
     "metadata": {},
     "output_type": "execute_result"
    }
   ],
   "source": [
    "# 5. Preprocess the data for tokenization purposes\n",
    "\n",
    "def convert_ds_to_features(batch_ds):\n",
    "    input_encodings = tokenizer(batch_ds['dialogue'] , max_length = 1024, truncation = True , padding='max_length')\n",
    "    target_encodings = tokenizer(batch_ds['summary'], max_length = 128, truncation = True )\n",
    "        \n",
    "    return {\n",
    "        'input_ids' : input_encodings['input_ids'],\n",
    "        'attention_mask': input_encodings['attention_mask'],\n",
    "        'labels': target_encodings['input_ids']\n",
    "    }\n",
    "\n",
    "\n",
    "# Create the dataset train samples\n",
    "samsum_train_ds = Dataset.from_pandas(train_df)\n",
    "samsum_train_ds_pt = samsum_train_ds.map(convert_ds_to_features, batched = True)\n",
    "\n",
    "\n",
    "samsum_val_ds = Dataset.from_pandas(validation_df)\n",
    "samsum_val_ds_pt = samsum_val_ds.map(convert_ds_to_features, batched = True)\n",
    "\n",
    "samsum_test_ds = Dataset.from_pandas(test_df)\n",
    "samsum_test_ds_pt = samsum_test_ds.map(convert_ds_to_features, batched = True)\n",
    "\n",
    "samsum_train_ds_pt"
   ]
  },
  {
   "cell_type": "markdown",
   "metadata": {},
   "source": [
    "# 6. Training loop"
   ]
  },
  {
   "cell_type": "code",
   "execution_count": 9,
   "metadata": {},
   "outputs": [],
   "source": [
    "\n",
    "# Set up the data collator for the model\n",
    "seq2seq_dataCollector = DataCollatorForSeq2Seq(tokenizer, model=model)\n",
    "\n",
    "# Set up the training arguments\n",
    "training_args = TrainingArguments(\n",
    "    output_dir='data/pegasus-samsum-results', \n",
    "    num_train_epochs=0.02, \n",
    "    warmup_steps=500,\n",
    "    per_device_train_batch_size=1,\n",
    "    per_device_eval_batch_size=1,\n",
    "    weight_decay=0.01, \n",
    "    logging_steps=10, \n",
    "    push_to_hub=False,\n",
    "    eval_strategy='steps',\n",
    "    eval_steps=500,\n",
    "    save_steps=1e6,\n",
    "    gradient_accumulation_steps=16)\n",
    "\n",
    "# Initialize the trainer\n",
    "trainer = Trainer(model=model,\n",
    "                  args=training_args,\n",
    "                  processing_class=tokenizer,\n",
    "                  data_collator=seq2seq_dataCollector,\n",
    "                  train_dataset=samsum_train_ds_pt, \n",
    "                  eval_dataset=samsum_val_ds_pt)\n",
    "\n"
   ]
  },
  {
   "cell_type": "code",
   "execution_count": 10,
   "metadata": {},
   "outputs": [],
   "source": [
    "torch.mps.set_per_process_memory_fraction(0.0)  # set the memory footprint for the training process memory computation"
   ]
  },
  {
   "cell_type": "code",
   "execution_count": null,
   "metadata": {},
   "outputs": [
    {
     "name": "stderr",
     "output_type": "stream",
     "text": [
      " 53%|█████▎    | 10/19 [23:11<30:54, 206.02s/it]"
     ]
    },
    {
     "name": "stdout",
     "output_type": "stream",
     "text": [
      "{'loss': 3.2778, 'grad_norm': 456.2216796875, 'learning_rate': 1.0000000000000002e-06, 'epoch': 0.01}\n"
     ]
    },
    {
     "name": "stderr",
     "output_type": "stream",
     "text": [
      " 84%|████████▍ | 16/19 [43:53<11:10, 223.62s/it]"
     ]
    }
   ],
   "source": [
    "# 6.  start training the model\n",
    "\n",
    "trainer.train() "
   ]
  },
  {
   "cell_type": "markdown",
   "metadata": {},
   "source": [
    "## 7. Evaluate the model"
   ]
  },
  {
   "cell_type": "code",
   "execution_count": 19,
   "metadata": {},
   "outputs": [
    {
     "name": "stderr",
     "output_type": "stream",
     "text": [
      "100%|██████████| 818/818 [03:23<00:00,  4.01it/s]\n",
      "100%|██████████| 10/10 [00:39<00:00,  3.95s/it]\n"
     ]
    },
    {
     "data": {
      "text/plain": [
       "{'rouge1': np.float64(0.017656708212699594),\n",
       " 'rouge2': np.float64(0.0),\n",
       " 'rougeL': np.float64(0.017613826129566336),\n",
       " 'rougeLsum': np.float64(0.017552127646895774)}"
      ]
     },
     "execution_count": 19,
     "metadata": {},
     "output_type": "execute_result"
    }
   ],
   "source": [
    "#7. evaluate the model\n",
    "\n",
    "# start evaluation\n",
    "trainer.evaluate()\n",
    "\n",
    "# load rouge metric\n",
    "rouge_metric = evaluate.load('rouge')\n",
    "rouge_names = [\"rouge1\", \"rouge2\", \"rougeL\", \"rougeLsum\"]\n",
    "\n",
    "def genarate_batch_sized_chunks(dataset, batch_size):\n",
    "    for i in range(0, len(dataset), batch_size):\n",
    "        yield dataset[i:i + batch_size]\n",
    "\n",
    "\n",
    "def evaluate_model_pegasus(model, tokenizer, test_dataset,metric, batch_size=2,device=device ,\n",
    "                                 column_text='dialogue',\n",
    "                                column_summary='summary'):\n",
    "\n",
    "    \n",
    "    article_batches = list(genarate_batch_sized_chunks(test_dataset[column_text], batch_size))\n",
    "    target_batches = list(genarate_batch_sized_chunks(test_dataset[column_summary], batch_size))\n",
    "\n",
    "    for article_batch, target_batch in tqdm(\n",
    "        zip(article_batches, target_batches), total=len(article_batches)):\n",
    "     \n",
    "\n",
    "        inputs = tokenizer(article_batch, max_length=1024,  truncation=True, \n",
    "                        padding=\"max_length\", return_tensors=\"pt\",return_token_type_ids=False)\n",
    "     \n",
    "        summaries = model.generate(input_ids=inputs[\"input_ids\"].to(device),\n",
    "                         attention_mask=inputs[\"attention_mask\"].to(device),\n",
    "                         length_penalty=0.8, num_beams=8, max_length=128)\n",
    "                                    \n",
    "\n",
    "            \n",
    "        decoded_summaries = [tokenizer.decode(s, skip_special_tokens=True, \n",
    "                                clean_up_tokenization_spaces=True) \n",
    "               for s in summaries]\n",
    "\n",
    "        # Remove spaces and punctuation from the summaries\n",
    "        decoded_summaries = [d.replace(\"\", \" \") for d in decoded_summaries]\n",
    "        \n",
    "\n",
    "        # Add the generated summaries and references to the metric\n",
    "        metric.add_batch(predictions=decoded_summaries, references=target_batch)\n",
    "        \n",
    "        \n",
    "    # Compute the ROUGE scores for the current batch of summaries\n",
    "    score = metric.compute()\n",
    "    return score\n",
    "\n",
    "# ROUGE (Recall-Oriented Understudy for Gisting Evaluation) scores are a set of metrics that measure the similarity between a generated summary or translation and a reference summary or translation\n",
    "score = evaluate_model_pegasus(\n",
    "     test_dataset=samsum_test_ds[0:10], \n",
    "     metric=rouge_metric, \n",
    "     model=trainer.model, \n",
    "     tokenizer=tokenizer,\n",
    "    batch_size = 1, \n",
    "    column_text = 'dialogue', \n",
    "    column_summary= 'summary'\n",
    ")\n",
    "\n",
    "# ROUGE (Recall-Oriented Understudy for Gisting Evaluation) scores of our predictions\n",
    "score"
   ]
  },
  {
   "cell_type": "code",
   "execution_count": 20,
   "metadata": {},
   "outputs": [
    {
     "data": {
      "text/html": [
       "<div>\n",
       "<style scoped>\n",
       "    .dataframe tbody tr th:only-of-type {\n",
       "        vertical-align: middle;\n",
       "    }\n",
       "\n",
       "    .dataframe tbody tr th {\n",
       "        vertical-align: top;\n",
       "    }\n",
       "\n",
       "    .dataframe thead th {\n",
       "        text-align: right;\n",
       "    }\n",
       "</style>\n",
       "<table border=\"1\" class=\"dataframe\">\n",
       "  <thead>\n",
       "    <tr style=\"text-align: right;\">\n",
       "      <th></th>\n",
       "      <th>rouge1</th>\n",
       "      <th>rouge2</th>\n",
       "      <th>rougeL</th>\n",
       "      <th>rougeLsum</th>\n",
       "    </tr>\n",
       "  </thead>\n",
       "  <tbody>\n",
       "    <tr>\n",
       "      <th>pegasus-samsum</th>\n",
       "      <td>0.017657</td>\n",
       "      <td>0.0</td>\n",
       "      <td>0.017614</td>\n",
       "      <td>0.017552</td>\n",
       "    </tr>\n",
       "  </tbody>\n",
       "</table>\n",
       "</div>"
      ],
      "text/plain": [
       "                  rouge1  rouge2    rougeL  rougeLsum\n",
       "pegasus-samsum  0.017657     0.0  0.017614   0.017552"
      ]
     },
     "execution_count": 20,
     "metadata": {},
     "output_type": "execute_result"
    }
   ],
   "source": [
    "# ROUGE (Recall-Oriented Understudy for Gisting Evaluation) scores of our predictions\n",
    "rouge_dict = dict((rn , score[rn]) for rn in rouge_names)\n",
    "\n",
    "pd.DataFrame(rouge_dict, index=[f\"pegasus-samsum\"])"
   ]
  },
  {
   "cell_type": "markdown",
   "metadata": {},
   "source": [
    "## Saved the model & tokenizer"
   ]
  },
  {
   "cell_type": "code",
   "execution_count": 21,
   "metadata": {},
   "outputs": [],
   "source": [
    "# save model \n",
    "trainer.save_model('../data/pegasus-samsum-model')\n"
   ]
  },
  {
   "cell_type": "code",
   "execution_count": 22,
   "metadata": {},
   "outputs": [
    {
     "data": {
      "text/plain": [
       "('../data/pegasus-samsum-results/tokenizer_config.json',\n",
       " '../data/pegasus-samsum-results/special_tokens_map.json',\n",
       " '../data/pegasus-samsum-results/spiece.model',\n",
       " '../data/pegasus-samsum-results/added_tokens.json',\n",
       " '../data/pegasus-samsum-results/tokenizer.json')"
      ]
     },
     "execution_count": 22,
     "metadata": {},
     "output_type": "execute_result"
    }
   ],
   "source": [
    "## Save tokenizer\n",
    "tokenizer.save_pretrained(\"../data/pegasus-samsum-results\")"
   ]
  },
  {
   "cell_type": "markdown",
   "metadata": {},
   "source": [
    "## load model and tokenizer"
   ]
  },
  {
   "cell_type": "code",
   "execution_count": 23,
   "metadata": {},
   "outputs": [],
   "source": [
    "# load model and tokenizer\n",
    "trainer = AutoTokenizer.from_pretrained(\"../data/pegasus-samsum-results\")"
   ]
  },
  {
   "cell_type": "markdown",
   "metadata": {},
   "source": [
    "# Prediction on a new example"
   ]
  },
  {
   "cell_type": "code",
   "execution_count": 24,
   "metadata": {},
   "outputs": [
    {
     "data": {
      "text/plain": [
       "(\"Hannah: Hey, do you have Betty's number?\\nAmanda: Lemme check\\nHannah: <file_gif>\\nAmanda: Sorry, can't find it.\\nAmanda: Ask Larry\\nAmanda: He called her last time we were at the park together\\nHannah: I don't know him well\\nHannah: <file_gif>\\nAmanda: Don't be shy, he's very nice\\nHannah: If you say so..\\nHannah: I'd rather you texted him\\nAmanda: Just text him 🙂\\nHannah: Urgh.. Alright\\nHannah: Bye\\nAmanda: Bye bye\",\n",
       " \"Hannah needs Betty's number but Amanda doesn't have it. She needs to contact Larry.\")"
      ]
     },
     "execution_count": 24,
     "metadata": {},
     "output_type": "execute_result"
    }
   ],
   "source": [
    "samsum_test_ds[0][\"dialogue\"] , samsum_test_ds[0][\"summary\"]"
   ]
  },
  {
   "cell_type": "code",
   "execution_count": 35,
   "metadata": {},
   "outputs": [
    {
     "name": "stderr",
     "output_type": "stream",
     "text": [
      "Your max_length is set to 128, but your input_length is only 122. Since this is a summarization task, where outputs shorter than the input are typically wanted, you might consider decreasing max_length manually, e.g. summarizer('...', max_length=61)\n"
     ]
    },
    {
     "name": "stdout",
     "output_type": "stream",
     "text": [
      "Original Dialogue:\n",
      "Dailogue: Hannah: Hey, do you have Betty's number?\n",
      "Amanda: Lemme check\n",
      "Hannah: <file_gif>\n",
      "Amanda: Sorry, can't find it.\n",
      "Amanda: Ask Larry\n",
      "Amanda: He called her last time we were at the park together\n",
      "Hannah: I don't know him well\n",
      "Hannah: <file_gif>\n",
      "Amanda: Don't be shy, he's very nice\n",
      "Hannah: If you say so..\n",
      "Hannah: I'd rather you texted him\n",
      "Amanda: Just text him 🙂\n",
      "Hannah: Urgh.. Alright\n",
      "Hannah: Bye\n",
      "Amanda: Bye bye\n",
      "Summary: Hannah needs Betty's number but Amanda doesn't have it. She needs to contact Larry.\n",
      "...\n",
      "Model Summary:\n",
      "Amanda: Ask Larry Amanda: He called her last time we were at the park together.\n",
      "Hannah: I'd rather you texted him.\n",
      "Amanda: Just text him.\n",
      "\n"
     ]
    }
   ],
   "source": [
    "gen_kwargs = {\"max_length\":128, \"num_beams\": 8, \"length_penalty\": 0.8}\n",
    "\n",
    "sample_text = samsum_test_ds[0][\"dialogue\"]\n",
    "reference = samsum_test_ds[0][\"summary\"]\n",
    "\n",
    "modelPipeline = pipeline(\"summarization\", model=\"../data/pegasus-samsum-model\",tokenizer=tokenizer,device=0)\n",
    "\n",
    "\n",
    "print(\"Original Dialogue:\")\n",
    "print(f\"Dailogue: {sample_text}\")\n",
    "print(f\"Summary: {reference}\")\n",
    "\n",
    "print(\"...\")\n",
    "\n",
    "print(\"Model Summary:\")\n",
    "print(modelPipeline(sample_text, **gen_kwargs)[0][\"summary_text\"].replace(\" .\", \".\\n\").replace(\"<n>\", \"\"))\n"
   ]
  },
  {
   "cell_type": "code",
   "execution_count": 41,
   "metadata": {},
   "outputs": [
    {
     "name": "stdout",
     "output_type": "stream",
     "text": [
      "Custom Dialogue:\n",
      "Thom: Hi guys, have you heard of transformers?\n",
      "Lewis: Yes, I used them recently!\n",
      "Leandro: Indeed, there is a great library by Hugging Face.\n",
      "Thom: I know, I helped build it ;)\n",
      "Lewis: Cool, maybe we should write a book about it. What do you think?\n",
      "Leandro: Great idea, how hard can it be?!\n",
      "Thom: I am in!\n",
      "Lewis: Awesome, let's do it together!\n",
      "\n",
      "...\n",
      "Model Summary:\n",
      "Leandro, Lewis and Thom try to write a book about transformers.\n",
      "What do you think? Leandro: Great idea, how hard can it be?!Lewis: Awesome, let's do it together!\n"
     ]
    }
   ],
   "source": [
    "\n",
    "gen_kwargs = {\"max_length\":91, \"num_beams\": 8, \"length_penalty\": 0.8}\n",
    "\n",
    "custom_dialogue = \"\"\"\\\n",
    "Thom: Hi guys, have you heard of transformers?\n",
    "Lewis: Yes, I used them recently!\n",
    "Leandro: Indeed, there is a great library by Hugging Face.\n",
    "Thom: I know, I helped build it ;)\n",
    "Lewis: Cool, maybe we should write a book about it. What do you think?\n",
    "Leandro: Great idea, how hard can it be?!\n",
    "Thom: I am in!\n",
    "Lewis: Awesome, let's do it together!\n",
    "\"\"\"\n",
    "print(\"Custom Dialogue:\")\n",
    "print(custom_dialogue)\n",
    "\n",
    "\n",
    "print(\"...\")\n",
    "\n",
    "print(\"Model Summary:\")\n",
    "print(modelPipeline(custom_dialogue, **gen_kwargs)[0][\"summary_text\"].replace(\" .\", \".\\n\").replace(\"<n>\", \"\"))"
   ]
  },
  {
   "cell_type": "markdown",
   "metadata": {},
   "source": [
    "## Fine-Tuning PEGASUS\n"
   ]
  },
  {
   "cell_type": "code",
   "execution_count": 44,
   "metadata": {},
   "outputs": [
    {
     "name": "stdout",
     "output_type": "stream",
     "text": [
      "Average dialogue length: 133.07\n",
      "Average summary length: 25.67\n"
     ]
    },
    {
     "data": {
      "image/png": "[encoded data removed]",
      "text/plain": [
       "<Figure size 1000x350 with 2 Axes>"
      ]
     },
     "metadata": {},
     "output_type": "display_data"
    }
   ],
   "source": [
    "\n",
    "\n",
    "# Calculate the length of the dialogue and summary for each sample\n",
    "dialogue_length = [len(tokenizer.encode(s)) for s in samsum_train_ds['dialogue']]\n",
    "summary_length = [len(tokenizer.encode(s)) for s in samsum_train_ds['summary']]\n",
    "\n",
    "print(f\"Average dialogue length: {np.mean(dialogue_length):.2f}\")\n",
    "print(f\"Average summary length: {np.mean(summary_length):.2f}\")\n",
    "\n",
    "\n",
    "\n",
    "ig, axes = plt.subplots(1, 2, figsize=(10, 3.5), sharey=True)\n",
    "axes[0].hist(dialogue_length, bins=20, color=\"C0\", edgecolor=\"C0\")\n",
    "axes[0].set_title(\"Dialogue Token Length\")\n",
    "axes[0].set_xlabel(\"Length\")\n",
    "axes[0].set_ylabel(\"Count\")\n",
    "axes[1].hist(summary_length, bins=20, color=\"C0\", edgecolor=\"C0\")\n",
    "axes[1].set_title(\"Summary Token Length\")\n",
    "axes[1].set_xlabel(\"Length\")\n",
    "plt.tight_layout()\n",
    "plt.show()\n"
   ]
  },
  {
   "cell_type": "code",
   "execution_count": 45,
   "metadata": {},
   "outputs": [
    {
     "data": {
      "text/plain": [
       "Dataset({\n",
       "    features: ['dialogue', 'summary', 'id', 'input_ids', 'attention_mask', 'labels'],\n",
       "    num_rows: 10000\n",
       "})"
      ]
     },
     "execution_count": 45,
     "metadata": {},
     "output_type": "execute_result"
    }
   ],
   "source": [
    "# Select a subset of the training data to fine-tune \n",
    "samsum_train_ds\n",
    "subset_size = 10000\n",
    "fine_tune_ds = samsum_train_ds_pt.select(range(subset_size))\n",
    "fine_tune_ds "
   ]
  },
  {
   "cell_type": "code",
   "execution_count": 48,
   "metadata": {},
   "outputs": [],
   "source": [
    "# update the datasets to PyTorch format\n",
    "\n",
    "columns = [\"input_ids\", \"labels\", \"attention_mask\"]\n",
    "samsum_train_ds_pt.set_format(type=\"torch\", columns=columns)\n",
    "\n",
    "columns = [\"input_ids\", \"labels\", \"attention_mask\"]\n",
    "samsum_test_ds_pt.set_format(type=\"torch\", columns=columns)\n"
   ]
  },
  {
   "cell_type": "code",
   "execution_count": 49,
   "metadata": {},
   "outputs": [
    {
     "data": {
      "text/html": [
       "<div>\n",
       "<style scoped>\n",
       "    .dataframe tbody tr th:only-of-type {\n",
       "        vertical-align: middle;\n",
       "    }\n",
       "\n",
       "    .dataframe tbody tr th {\n",
       "        vertical-align: top;\n",
       "    }\n",
       "\n",
       "    .dataframe thead th {\n",
       "        text-align: right;\n",
       "    }\n",
       "</style>\n",
       "<table border=\"1\" class=\"dataframe\">\n",
       "  <thead>\n",
       "    <tr style=\"text-align: right;\">\n",
       "      <th></th>\n",
       "      <th>decoder_input</th>\n",
       "      <th>label</th>\n",
       "    </tr>\n",
       "    <tr>\n",
       "      <th>step</th>\n",
       "      <th></th>\n",
       "      <th></th>\n",
       "    </tr>\n",
       "  </thead>\n",
       "  <tbody>\n",
       "    <tr>\n",
       "      <th>1</th>\n",
       "      <td>[PAD]</td>\n",
       "      <td>Transformers</td>\n",
       "    </tr>\n",
       "    <tr>\n",
       "      <th>2</th>\n",
       "      <td>[PAD, Transformers]</td>\n",
       "      <td>are</td>\n",
       "    </tr>\n",
       "    <tr>\n",
       "      <th>3</th>\n",
       "      <td>[PAD, Transformers, are]</td>\n",
       "      <td>awesome</td>\n",
       "    </tr>\n",
       "    <tr>\n",
       "      <th>4</th>\n",
       "      <td>[PAD, Transformers, are, awesome]</td>\n",
       "      <td>for</td>\n",
       "    </tr>\n",
       "    <tr>\n",
       "      <th>5</th>\n",
       "      <td>[PAD, Transformers, are, awesome, for]</td>\n",
       "      <td>text</td>\n",
       "    </tr>\n",
       "    <tr>\n",
       "      <th>6</th>\n",
       "      <td>[PAD, Transformers, are, awesome, for, text]</td>\n",
       "      <td>summarization</td>\n",
       "    </tr>\n",
       "  </tbody>\n",
       "</table>\n",
       "</div>"
      ],
      "text/plain": [
       "                                     decoder_input          label\n",
       "step                                                             \n",
       "1                                            [PAD]   Transformers\n",
       "2                              [PAD, Transformers]            are\n",
       "3                         [PAD, Transformers, are]        awesome\n",
       "4                [PAD, Transformers, are, awesome]            for\n",
       "5           [PAD, Transformers, are, awesome, for]           text\n",
       "6     [PAD, Transformers, are, awesome, for, text]  summarization"
      ]
     },
     "execution_count": 49,
     "metadata": {},
     "output_type": "execute_result"
    }
   ],
   "source": [
    "#id teacher-forcing\n",
    "#alt Decoder input and label alignemt for text generation.\n",
    "#caption Decoder input and label alignemt for text generation.\n",
    "text = ['PAD','Transformers', 'are', 'awesome', 'for', 'text', 'summarization']\n",
    "rows = []\n",
    "for i in range(len(text)-1):\n",
    "    rows.append({'step': i+1, 'decoder_input': text[:i+1], 'label': text[i+1]})\n",
    "pd.DataFrame(rows).set_index('step')"
   ]
  },
  {
   "cell_type": "code",
   "execution_count": 64,
   "metadata": {},
   "outputs": [
    {
     "name": "stderr",
     "output_type": "stream",
     "text": [
      " 53%|█████▎    | 10/19 [05:43<05:08, 34.32s/it]\n",
      " 53%|█████▎    | 10/19 [23:52<23:55, 159.45s/it]\n",
      " 53%|█████▎    | 10/19 [23:52<23:55, 159.45s/it]"
     ]
    },
    {
     "name": "stdout",
     "output_type": "stream",
     "text": [
      "{'loss': 3.2778, 'grad_norm': 456.2298889160156, 'learning_rate': 1.0000000000000002e-06, 'epoch': 0.01}\n"
     ]
    },
    {
     "name": "stderr",
     "output_type": "stream",
     "text": [
      "100%|██████████| 19/19 [48:23<00:00, 165.45s/it]/Users/behar/dev/repo/NLP/text-summarization-pro/.venv/lib/python3.11/site-packages/transformers/modeling_utils.py:2817: UserWarning: Moving the following attributes in the config to the generation config: {'max_length': 128, 'min_length': 32, 'num_beams': 8, 'length_penalty': 0.8}. You are seeing this warning because you've set generation parameters in the model config, as opposed to in the generation config.\n",
      "  warnings.warn(\n",
      "\n",
      "100%|██████████| 19/19 [48:38<00:00, 153.58s/it]"
     ]
    },
    {
     "name": "stdout",
     "output_type": "stream",
     "text": [
      "{'train_runtime': 2918.0089, 'train_samples_per_second': 0.101, 'train_steps_per_second': 0.007, 'train_loss': 3.1991389425177323, 'epoch': 0.02}\n"
     ]
    },
    {
     "name": "stderr",
     "output_type": "stream",
     "text": [
      "\n"
     ]
    },
    {
     "data": {
      "text/plain": [
       "TrainOutput(global_step=19, training_loss=3.1991389425177323, metrics={'train_runtime': 2918.0089, 'train_samples_per_second': 0.101, 'train_steps_per_second': 0.007, 'total_flos': 878397181919232.0, 'train_loss': 3.1991389425177323, 'epoch': 0.020635351615530817})"
      ]
     },
     "execution_count": 64,
     "metadata": {},
     "output_type": "execute_result"
    }
   ],
   "source": [
    "# FIne-tune PEGASUS for text summarization model\n",
    "\n",
    "# Initialize the PEGASUS model with the tokenizer\n",
    "\n",
    "seq2seq_data_collator = DataCollatorForSeq2Seq(tokenizer, model=model)\n",
    "     \n",
    "# Set up the training arguments\n",
    "\n",
    "training_args = TrainingArguments(\n",
    "    output_dir='../data/pegasus-samsum-finetune',\n",
    "    num_train_epochs=0.02, \n",
    "    warmup_steps=500,\n",
    "    per_device_train_batch_size=1,\n",
    "    per_device_eval_batch_size=1,\n",
    "    weight_decay=0.01,\n",
    "    logging_steps=10, \n",
    "    push_to_hub=False,\n",
    "    eval_strategy='steps', \n",
    "    eval_steps=500, \n",
    "    save_steps=1e6,\n",
    "    gradient_accumulation_steps=16)\n",
    "\n",
    "\n",
    "\n",
    "# Initialize the PEGASUS model with the tokenizer\n",
    "trainer = Trainer(model=model, \n",
    "                  args=training_args,\n",
    "                  processing_class=tokenizer, \n",
    "                  data_collator=seq2seq_data_collator,\n",
    "                  train_dataset=samsum_train_ds_pt, \n",
    "                  eval_dataset=samsum_val_ds_pt)\n",
    "\n",
    "# Start training the model\n",
    "trainer.train()\n",
    "\n",
    "\n"
   ]
  },
  {
   "cell_type": "code",
   "execution_count": 65,
   "metadata": {},
   "outputs": [
    {
     "data": {
      "text/plain": [
       "('../data/pegasus-samsum-finetune/tokenizer_config.json',\n",
       " '../data/pegasus-samsum-finetune/special_tokens_map.json',\n",
       " '../data/pegasus-samsum-finetune/spiece.model',\n",
       " '../data/pegasus-samsum-finetune/added_tokens.json',\n",
       " '../data/pegasus-samsum-finetune/tokenizer.json')"
      ]
     },
     "execution_count": 65,
     "metadata": {},
     "output_type": "execute_result"
    }
   ],
   "source": [
    "# Save the fine-tuned model\n",
    "trainer.save_model(\"../data/pegasus-samsum-finetune\")\n",
    "\n",
    "# Save the tokenizer\n",
    "tokenizer.save_pretrained(\"../data/pegasus-samsum-finetune\")"
   ]
  },
  {
   "cell_type": "code",
   "execution_count": 66,
   "metadata": {},
   "outputs": [
    {
     "name": "stderr",
     "output_type": "stream",
     "text": [
      "100%|██████████| 818/818 [03:15<00:00,  4.17it/s]\n",
      "100%|██████████| 10/10 [00:39<00:00,  3.91s/it]\n"
     ]
    }
   ],
   "source": [
    "trainer.evaluate()\n",
    "# Evaluate the fine-tuned model\n",
    "score = evaluate_model_pegasus(\n",
    "\n",
    "    test_dataset=samsum_test_ds[0:10], \n",
    "     metric=rouge_metric, \n",
    "     model=trainer.model, \n",
    "     tokenizer=tokenizer,\n",
    "    batch_size = 1, \n",
    "    column_text = 'dialogue', \n",
    "    column_summary= 'summary'\n",
    "    \n",
    "\n",
    "   )\n",
    "\n",
    "\n",
    "\n",
    "\n"
   ]
  },
  {
   "cell_type": "code",
   "execution_count": 67,
   "metadata": {},
   "outputs": [
    {
     "data": {
      "text/plain": [
       "{'rouge1': np.float64(0.017656708212699594),\n",
       " 'rouge2': np.float64(0.0),\n",
       " 'rougeL': np.float64(0.017613826129566336),\n",
       " 'rougeLsum': np.float64(0.017552127646895774)}"
      ]
     },
     "execution_count": 67,
     "metadata": {},
     "output_type": "execute_result"
    }
   ],
   "source": [
    "score"
   ]
  },
  {
   "cell_type": "markdown",
   "metadata": {},
   "source": [
    "## Predictions"
   ]
  },
  {
   "cell_type": "markdown",
   "metadata": {},
   "source": [
    "## Test prediction with test dataset"
   ]
  },
  {
   "cell_type": "code",
   "execution_count": 71,
   "metadata": {},
   "outputs": [
    {
     "name": "stdout",
     "output_type": "stream",
     "text": [
      "Original Dialogue:\n",
      "Dailogue: Hannah: Hey, do you have Betty's number?\n",
      "Amanda: Lemme check\n",
      "Hannah: <file_gif>\n",
      "Amanda: Sorry, can't find it.\n",
      "Amanda: Ask Larry\n",
      "Amanda: He called her last time we were at the park together\n",
      "Hannah: I don't know him well\n",
      "Hannah: <file_gif>\n",
      "Amanda: Don't be shy, he's very nice\n",
      "Hannah: If you say so..\n",
      "Hannah: I'd rather you texted him\n",
      "Amanda: Just text him 🙂\n",
      "Hannah: Urgh.. Alright\n",
      "Hannah: Bye\n",
      "Amanda: Bye bye\n",
      "Summary: Hannah needs Betty's number but Amanda doesn't have it. She needs to contact Larry.\n",
      "...\n",
      "Model Summary:\n",
      "Amanda: Ask Larry Amanda: He called her last time we were at the park together.\n",
      "Hannah: I'd rather you texted him.\n",
      "Amanda: Just text him.\n",
      "\n"
     ]
    }
   ],
   "source": [
    "\n",
    "# Load the saved model and tokenizer\n",
    "trainer = AutoTokenizer.from_pretrained(\"../data/pegasus-samsum-finetune/checkpoint-19\")\n",
    "\n",
    "# Prediction on a new example\n",
    "sample_text = samsum_test_ds[0][\"dialogue\"]\n",
    "reference = samsum_test_ds[0][\"summary\"]\n",
    "\n",
    "modelPipeline = pipeline(\"summarization\", model=\"../data/pegasus-samsum-finetune\",tokenizer=tokenizer,device=0)\n",
    "\n",
    "\n",
    "print(\"Original Dialogue:\")\n",
    "print(f\"Dailogue: {sample_text}\")\n",
    "print(f\"Summary: {reference}\")\n",
    "\n",
    "print(\"...\")\n",
    "\n",
    "print(\"Model Summary:\")\n",
    "print(modelPipeline(sample_text, **gen_kwargs)[0][\"summary_text\"].replace(\" .\", \".\\n\").replace(\"<n>\", \"\"))\n",
    "\n",
    "\n"
   ]
  },
  {
   "cell_type": "markdown",
   "metadata": {},
   "source": [
    "## Test with custom dialogue which not part of the training data ,tried to predict the summary"
   ]
  },
  {
   "cell_type": "code",
   "execution_count": 74,
   "metadata": {},
   "outputs": [
    {
     "name": "stdout",
     "output_type": "stream",
     "text": [
      "Custom Dialogue:\n",
      "Thom: Hi guys, have you heard of transformers?\n",
      "Lewis: Yes, I used them recently!\n",
      "Leandro: Indeed, there is a great library by Hugging Face.  \n",
      "Thom: I know, I helped build it ;)\n",
      "Lewis: Cool, maybe we should write a book about it. What do you think?\n",
      "Leandro: Great idea, how hard can it be?!\n",
      "Thom: I am in!\n",
      "Lewis: Awesome, let's do it together!\n",
      "\n",
      "...\n",
      "Model Summary:\n",
      "Leandro, Lewis and Thom try to write a book about transformers.\n",
      "What do you think? Leandro: Great idea, how hard can it be?!Lewis: Awesome, let's do it together!\n"
     ]
    }
   ],
   "source": [
    "custom_dialogue = \"\"\"\\\n",
    "Thom: Hi guys, have you heard of transformers?\n",
    "Lewis: Yes, I used them recently!\n",
    "Leandro: Indeed, there is a great library by Hugging Face.  \n",
    "Thom: I know, I helped build it ;)\n",
    "Lewis: Cool, maybe we should write a book about it. What do you think?\n",
    "Leandro: Great idea, how hard can it be?!\n",
    "Thom: I am in!\n",
    "Lewis: Awesome, let's do it together!\n",
    "\"\"\"\n",
    "print(\"Custom Dialogue:\")\n",
    "print(custom_dialogue)\n",
    "\n",
    "\n",
    "print(\"...\")\n",
    "print(\"Model Summary:\")\n",
    "print(modelPipeline(custom_dialogue, **gen_kwargs)[0][\"summary_text\"].replace(\" .\", \".\\n\").replace(\"<n>\", \"\"))\n"
   ]
  }
 ],
 "metadata": {
  "kernelspec": {
   "display_name": ".venv",
   "language": "python",
   "name": "python3"
  },
  "language_info": {
   "codemirror_mode": {
    "name": "ipython",
    "version": 3
   },
   "file_extension": ".py",
   "mimetype": "text/x-python",
   "name": "python",
   "nbconvert_exporter": "python",
   "pygments_lexer": "ipython3",
   "version": "3.11.9"
  }
 },
 "nbformat": 4,
 "nbformat_minor": 2
}
